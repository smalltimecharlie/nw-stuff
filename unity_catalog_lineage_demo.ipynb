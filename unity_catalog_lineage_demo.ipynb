{
 "cells": [
  {
   "cell_type": "code",
   "execution_count": null,
   "id": "24f32cf2",
   "metadata": {},
   "outputs": [],
   "source": [
    "# 📈 Unity Catalog Lineage Demo\n",
    "# This notebook creates a derived table from a source table to trigger lineage tracking in Unity Catalog.\n",
    "\n",
    "# Setup: Use your dedicated catalog and schema\n",
    "spark.sql(\"USE CATALOG unity_demo\")\n",
    "spark.sql(\"USE SCHEMA governance_lab\")\n"
   ]
  },
  {
   "cell_type": "code",
   "execution_count": null,
   "id": "5f0774fe",
   "metadata": {},
   "outputs": [],
   "source": [
    "# Step 1: Create a source table (if not already exists)\n",
    "from pyspark.sql import Row\n",
    "orders = [\n",
    "    Row(order_id=1001, customer_id=501, amount=250.75),\n",
    "    Row(order_id=1002, customer_id=502, amount=125.00),\n",
    "    Row(order_id=1003, customer_id=501, amount=300.00)\n",
    "]\n",
    "spark.createDataFrame(orders).write.mode(\"overwrite\").saveAsTable(\"unity_demo.governance_lab.customer_orders\")\n"
   ]
  },
  {
   "cell_type": "code",
   "execution_count": null,
   "id": "d38fba6f",
   "metadata": {},
   "outputs": [],
   "source": [
    "# Step 2: Create a derived table from the source table\n",
    "# This transformation will show up in Unity Catalog Lineage UI\n",
    "spark.sql(\"\"\"\n",
    "CREATE OR REPLACE TABLE unity_demo.governance_lab.customer_summary AS\n",
    "SELECT customer_id, COUNT(*) AS order_count, SUM(amount) AS total_spent\n",
    "FROM unity_demo.governance_lab.customer_orders\n",
    "GROUP BY customer_id\n",
    "\"\"\")\n"
   ]
  },
  {
   "cell_type": "code",
   "execution_count": null,
   "id": "503e4414",
   "metadata": {},
   "outputs": [],
   "source": [
    "# ✅ Unity Lineage Tracking\n",
    "# Once this notebook runs, go to:\n",
    "# Data > unity_demo > governance_lab > customer_summary > Lineage tab\n",
    "# You should see `customer_orders` as the input to `customer_summary`.\n",
    "# Docs: https://docs.databricks.com/en/data-governance/unity-catalog/lineage.html\n"
   ]
  }
 ],
 "metadata": {},
 "nbformat": 4,
 "nbformat_minor": 5
}
