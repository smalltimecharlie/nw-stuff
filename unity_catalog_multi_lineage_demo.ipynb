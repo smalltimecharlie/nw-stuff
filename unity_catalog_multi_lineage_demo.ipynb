{
 "cells": [
  {
   "cell_type": "code",
   "execution_count": null,
   "id": "2a5d4ba2",
   "metadata": {},
   "outputs": [],
   "source": [
    "# 🧬 Unity Catalog Multi-Layer Lineage Demo\n",
    "# Catalog: `unity_demo`, Schema: `governance_lab`\n",
    "# This notebook creates 3 base tables and 3 derived tables/views, each linked by joins or aggregations.\n",
    "# The Unity Catalog Lineage UI will reflect these layers.\n",
    "\n",
    "spark.sql(\"USE CATALOG unity_demo\")\n",
    "spark.sql(\"USE SCHEMA governance_lab\")\n"
   ]
  },
  {
   "cell_type": "code",
   "execution_count": null,
   "id": "7fec9d07",
   "metadata": {},
   "outputs": [],
   "source": [
    "# Table 1: lineage_customers – customer reference data\n",
    "from pyspark.sql import Row\n",
    "customers = [\n",
    "    Row(customer_id=1, name=\"Alice\", region=\"UK\"),\n",
    "    Row(customer_id=2, name=\"Bob\", region=\"EU\"),\n",
    "    Row(customer_id=3, name=\"Charlie\", region=\"US\")\n",
    "]\n",
    "spark.createDataFrame(customers).write.mode(\"overwrite\").saveAsTable(\"unity_demo.governance_lab.lineage_customers\")\n"
   ]
  },
  {
   "cell_type": "code",
   "execution_count": null,
   "id": "ed7e527f",
   "metadata": {},
   "outputs": [],
   "source": [
    "# Table 2: lineage_products – product reference data\n",
    "products = [\n",
    "    Row(product_id=101, name=\"Laptop\", category=\"Electronics\"),\n",
    "    Row(product_id=102, name=\"Headphones\", category=\"Electronics\"),\n",
    "    Row(product_id=103, name=\"Mug\", category=\"Homeware\")\n",
    "]\n",
    "spark.createDataFrame(products).write.mode(\"overwrite\").saveAsTable(\"unity_demo.governance_lab.lineage_products\")\n"
   ]
  },
  {
   "cell_type": "code",
   "execution_count": null,
   "id": "634888c3",
   "metadata": {},
   "outputs": [],
   "source": [
    "# Table 3: lineage_orders – high-level orders\n",
    "orders = [\n",
    "    Row(order_id=1001, customer_id=1, order_date=\"2024-01-01\"),\n",
    "    Row(order_id=1002, customer_id=1, order_date=\"2024-01-02\"),\n",
    "    Row(order_id=1003, customer_id=2, order_date=\"2024-01-03\")\n",
    "]\n",
    "spark.createDataFrame(orders).write.mode(\"overwrite\").saveAsTable(\"unity_demo.governance_lab.lineage_orders\")\n"
   ]
  },
  {
   "cell_type": "code",
   "execution_count": null,
   "id": "c5abe2a0",
   "metadata": {},
   "outputs": [],
   "source": [
    "# Layer 1: lineage_order_details – exploded orders with products and quantities\n",
    "spark.sql(\"\"\"\n",
    "CREATE OR REPLACE TABLE unity_demo.governance_lab.lineage_order_details AS\n",
    "SELECT o.order_id, o.customer_id, o.order_date, p.product_id, p.name AS product_name, p.category, \n",
    "       CASE o.order_id \n",
    "            WHEN 1001 THEN 2\n",
    "            WHEN 1002 THEN 1\n",
    "            ELSE 3\n",
    "        END AS quantity,\n",
    "       CASE p.product_id\n",
    "            WHEN 101 THEN 1000.0\n",
    "            WHEN 102 THEN 200.0\n",
    "            ELSE 10.0\n",
    "       END AS unit_price\n",
    "FROM unity_demo.governance_lab.lineage_orders o\n",
    "JOIN unity_demo.governance_lab.lineage_products p\n",
    "    ON p.product_id IN (101, 102, 103)\n",
    "\"\"\")\n"
   ]
  },
  {
   "cell_type": "code",
   "execution_count": null,
   "id": "cb91423b",
   "metadata": {},
   "outputs": [],
   "source": [
    "# Layer 2: lineage_revenue_by_customer – revenue totals per customer\n",
    "spark.sql(\"\"\"\n",
    "CREATE OR REPLACE TABLE unity_demo.governance_lab.lineage_revenue_by_customer AS\n",
    "SELECT customer_id,\n",
    "       SUM(quantity * unit_price) AS total_spend\n",
    "FROM unity_demo.governance_lab.lineage_order_details\n",
    "GROUP BY customer_id\n",
    "\"\"\")\n"
   ]
  },
  {
   "cell_type": "code",
   "execution_count": null,
   "id": "019cb82b",
   "metadata": {},
   "outputs": [],
   "source": [
    "# Layer 3: lineage_top_customers – joined with customer names, top spenders\n",
    "spark.sql(\"\"\"\n",
    "CREATE OR REPLACE TABLE unity_demo.governance_lab.lineage_top_customers AS\n",
    "SELECT c.customer_id, c.name, r.total_spend\n",
    "FROM unity_demo.governance_lab.lineage_revenue_by_customer r\n",
    "JOIN unity_demo.governance_lab.lineage_customers c\n",
    "  ON r.customer_id = c.customer_id\n",
    "WHERE r.total_spend > 500\n",
    "\"\"\")\n"
   ]
  },
  {
   "cell_type": "code",
   "execution_count": null,
   "id": "4ed51b58",
   "metadata": {},
   "outputs": [],
   "source": [
    "# ✅ Lineage Demo Complete\n",
    "# Visit any table in the Unity Catalog Lineage tab, especially `lineage_top_customers`,\n",
    "# and observe dependencies all the way back to:\n",
    "# - `lineage_customers`\n",
    "# - `lineage_orders`\n",
    "# - `lineage_products`\n",
    "# Docs: https://docs.databricks.com/en/data-governance/unity-catalog/lineage.html\n"
   ]
  }
 ],
 "metadata": {},
 "nbformat": 4,
 "nbformat_minor": 5
}
