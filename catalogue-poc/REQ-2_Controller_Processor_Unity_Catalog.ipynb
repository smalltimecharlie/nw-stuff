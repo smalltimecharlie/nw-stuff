{
 "cells": [
  {
   "cell_type": "markdown",
   "id": "2c036536",
   "metadata": {},
   "source": [
    "# 🔍 REQ-2: Audit Controller/Processor Roles\n",
    "\n",
    "> \"As a governance lead, I need to view and audit data controller/processor status. All datasets must display controller/processor roles and be filterable by these fields.\"\n",
    "\n",
    "In this notebook, we:\n",
    "- Query Unity Catalog table metadata for `data_controller` and `data_processor`\n",
    "- Create a filtered list of datasets by controller or processor\n",
    "- Show how these fields can support governance auditing and reporting\n",
    "\n",
    "Catalog: `unity_demo`  \n",
    "Schema: `governance_lab`  \n"
   ]
  },
  {
   "cell_type": "code",
   "execution_count": null,
   "id": "871ac350",
   "metadata": {},
   "outputs": [],
   "source": [
    "# Show controller/processor for all tables\n",
    "tables = [\"employee_records\", \"customer_orders\"]\n",
    "\n",
    "for tbl in tables:\n",
    "    print(f\"\\n🔍 Metadata for table: {tbl}\")\n",
    "    spark.sql(f\"SHOW TBLPROPERTIES unity_demo.governance_lab.{tbl}\") \\\n",
    "        .filter(\"key in ('data_controller', 'data_processor')\") \\\n",
    "        .show()\n"
   ]
  },
  {
   "cell_type": "code",
   "execution_count": null,
   "id": "4206f6b5",
   "metadata": {},
   "outputs": [],
   "source": [
    "# Simulate audit filtering by controller value\n",
    "controller_filter = \"Sales Department\"\n",
    "print(f\"\\n📋 Tables with data_controller = '{controller_filter}':\")\n",
    "for tbl in tables:\n",
    "    props = spark.sql(f\"SHOW TBLPROPERTIES unity_demo.governance_lab.{tbl}\").rdd.collectAsMap()\n",
    "    if props.get(\"data_controller\") == controller_filter:\n",
    "        print(f\"✅ {tbl}\")\n"
   ]
  }
 ],
 "metadata": {},
 "nbformat": 4,
 "nbformat_minor": 5
}
