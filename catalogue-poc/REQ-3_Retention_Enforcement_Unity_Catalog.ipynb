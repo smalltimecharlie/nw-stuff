{
 "cells": [
  {
   "cell_type": "markdown",
   "id": "752e3148",
   "metadata": {},
   "source": [
    "# 🕒 REQ-3: Enforce Retention Policies\n",
    "\n",
    "> \"As a data steward, I need to enforce retention policies on datasets.  \n",
    "> Datasets nearing expiry trigger alerts; expired datasets are flagged for review.\"\n",
    "\n",
    "This notebook demonstrates:\n",
    "- How `retention_policy` metadata is stored in Unity Catalog\n",
    "- How to simulate audit logic to identify datasets nearing or exceeding retention\n",
    "- Opportunities to link this with lifecycle automation or alerts\n",
    "\n",
    "Catalog: `unity_demo`  \n",
    "Schema: `governance_lab`  \n"
   ]
  },
  {
   "cell_type": "code",
   "execution_count": null,
   "id": "9f2b42c5",
   "metadata": {},
   "outputs": [],
   "source": [
    "# Retention metadata simulation\n",
    "import datetime\n",
    "\n",
    "# Example: simulate retention timestamps as if the tables had a \"created_at\" field\n",
    "table_created_dates = {\n",
    "    \"employee_records\": datetime.date(2019, 7, 20),\n",
    "    \"customer_orders\": datetime.date(2022, 3, 15),\n",
    "}\n",
    "\n",
    "today = datetime.date.today()\n",
    "\n",
    "for tbl, created in table_created_dates.items():\n",
    "    props = spark.sql(f\"SHOW TBLPROPERTIES unity_demo.governance_lab.{tbl}\").rdd.collectAsMap()\n",
    "    policy = props.get(\"retention_policy\", \"not_set\")\n",
    "    if \"y\" in policy:\n",
    "        years = int(policy.replace(\"y\", \"\"))\n",
    "        expiry = created + datetime.timedelta(days=365 * years)\n",
    "        print(f\"🗂️ Table: {tbl} | Created: {created} | Policy: {policy} | Expires: {expiry}\")\n",
    "        if today > expiry:\n",
    "            print(\"⚠️ Dataset has expired!\")\n",
    "        elif (expiry - today).days < 180:\n",
    "            print(\"⏳ Dataset near expiry (within 6 months).\")\n",
    "        else:\n",
    "            print(\"✅ Retention is valid.\")\n",
    "    else:\n",
    "        print(f\"❌ Invalid or missing policy on {tbl}\")\n"
   ]
  }
 ],
 "metadata": {},
 "nbformat": 4,
 "nbformat_minor": 5
}
