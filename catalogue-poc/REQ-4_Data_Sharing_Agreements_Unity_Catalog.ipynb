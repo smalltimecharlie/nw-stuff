{
 "cells": [
  {
   "cell_type": "markdown",
   "id": "30551e97",
   "metadata": {},
   "source": [
    "# 🤝 REQ-4: Link Datasets to Data Sharing Agreements\n",
    "\n",
    "> \"As a compliance officer, I need to link datasets to sharing data agreements.  \n",
    "> Each dataset can be linked to one or more data sharing agreements or privacy documents.\"\n",
    "\n",
    "### Purpose\n",
    "This requirement demonstrates how Unity Catalog can store references to data sharing agreements via metadata,\n",
    "enabling traceability for compliance and audit use cases.\n",
    "\n",
    "Catalog: `unity_demo`  \n",
    "Schema: `governance_lab`  \n"
   ]
  },
  {
   "cell_type": "code",
   "execution_count": null,
   "id": "d43c7b02",
   "metadata": {},
   "outputs": [],
   "source": [
    "# Add or update metadata fields for agreement links\n",
    "spark.sql(\"\"\"\n",
    "ALTER TABLE unity_demo.governance_lab.employee_records SET TBLPROPERTIES (\n",
    "  'data_agreement_url' = 's3://agreements/hr_policy.pdf',\n",
    "  'privacy_notice_url' = 's3://privacy/hr_notice.pdf'\n",
    ")\n",
    "\"\"\")\n",
    "\n",
    "spark.sql(\"\"\"\n",
    "ALTER TABLE unity_demo.governance_lab.customer_orders SET TBLPROPERTIES (\n",
    "  'data_agreement_url' = 's3://agreements/sales_dpa.pdf',\n",
    "  'privacy_notice_url' = 's3://privacy/sales_notice.pdf'\n",
    ")\n",
    "\"\"\")"
   ]
  },
  {
   "cell_type": "code",
   "execution_count": null,
   "id": "302f6f8d",
   "metadata": {},
   "outputs": [],
   "source": [
    "# Validate metadata link fields\n",
    "tables = [\"employee_records\", \"customer_orders\"]\n",
    "for tbl in tables:\n",
    "    print(f\"\\n🔗 Agreements linked to: {tbl}\")\n",
    "    spark.sql(f\"SHOW TBLPROPERTIES unity_demo.governance_lab.{tbl}\") \\\n",
    "        .filter(\"key in ('data_agreement_url', 'privacy_notice_url')\") \\\n",
    "        .show()\n"
   ]
  }
 ],
 "metadata": {},
 "nbformat": 4,
 "nbformat_minor": 5
}
